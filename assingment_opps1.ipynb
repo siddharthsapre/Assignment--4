{
 "cells": [
  {
   "cell_type": "markdown",
   "id": "f8f128cd-5f64-4b88-aacf-99bfc8dbeb64",
   "metadata": {},
   "source": [
    "Q1. Explain Class and Object with respect to Object-Oriented Programming. Give a suitable example.\n",
    "\n",
    "In object-oriented programming (OOP), a class is a blueprint or a template for creating objects. \n",
    "It defines the characteristics and behaviors that objects of that class will have. A class is like\n",
    "a blueprint because it specifies what data the objects will hold (in the form of attributes or properties) \n",
    "and what operations can be performed on those objects (in the form of methods or functions).\n",
    "\n",
    "Ans object, on the other hand, is an instance of a class. It is a concrete entity that is created based on the \n",
    "class definition. Objects have their own unique data and can perform actions defined by the class. They encapsulate\n",
    "both data and behavior."
   ]
  },
  {
   "cell_type": "code",
   "execution_count": 1,
   "id": "1b8cc5b6-543c-47ba-95a3-a300001f4e7e",
   "metadata": {},
   "outputs": [],
   "source": [
    "class test:\n",
    "    \n",
    "    def __init__(self, name, phone,email):\n",
    "        self.name=name\n",
    "        self.phone=phone\n",
    "        self.email=email\n",
    "        \n",
    "    def return_detail (self):\n",
    "            return self.name,self.phone,self.email"
   ]
  },
  {
   "cell_type": "code",
   "execution_count": 2,
   "id": "5fd7c14d-d29a-4b32-ae6d-b84446b70256",
   "metadata": {},
   "outputs": [],
   "source": [
    "sidd= test (\"siddharth\",9956002569,\"siddharthsapresmailbox@gmail.com\")"
   ]
  },
  {
   "cell_type": "code",
   "execution_count": 3,
   "id": "b18dc81e-2961-4af2-a8c0-2b7f30137a02",
   "metadata": {},
   "outputs": [
    {
     "data": {
      "text/plain": [
       "('siddharth', 9956002569, 'siddharthsapresmailbox@gmail.com')"
      ]
     },
     "execution_count": 3,
     "metadata": {},
     "output_type": "execute_result"
    }
   ],
   "source": [
    "sidd.return_detail()"
   ]
  },
  {
   "cell_type": "markdown",
   "id": "850ef8f9-476c-4fb1-ab4a-c24d3c0d3c40",
   "metadata": {},
   "source": [
    "Name the four pillars of OOPs.\n",
    "\n",
    "1.Encapsulation\n",
    "2.Inheritance\n",
    "3.Polymorphism\n",
    "4.Abstraction\n"
   ]
  },
  {
   "cell_type": "markdown",
   "id": "1c8bd6b7-1584-4c52-a3d3-2789db62e928",
   "metadata": {},
   "source": [
    "Q3. Explain why the __init__() function is used. Give a suitable example.\n",
    "\n",
    "in order to pass the data within the class we use and inbuilt function called \"init\" and \n",
    "it is also called as constructor(def__init__())"
   ]
  },
  {
   "cell_type": "code",
   "execution_count": null,
   "id": "6b081bfa-5c4e-4aca-a5c8-34807fe1df95",
   "metadata": {},
   "outputs": [],
   "source": [
    "class test:\n",
    "    \n",
    "    def __init__(self, name, phone,email):\n",
    "        self.name=name\n",
    "        self.phone=phone\n",
    "        self.email=email\n",
    "        \n",
    "    def return_detail (self):\n",
    "            return self.name,self.phone,self.email"
   ]
  },
  {
   "cell_type": "markdown",
   "id": "9736e0ec-b8fe-4d56-ad08-8d5aaf778edc",
   "metadata": {},
   "source": [
    "Q4. Why self is used in OOPs?\n",
    "\n",
    " In summary, self is used in OOP to refer to the instance of a class, \n",
    " enabling access to instance attributes, calling other methods within the \n",
    " class, managing instance-specific data, and implementing fundamental object-oriented principles."
   ]
  },
  {
   "cell_type": "code",
   "execution_count": null,
   "id": "6c37afcd-5cc2-4a14-9d47-9cc537fbe464",
   "metadata": {},
   "outputs": [],
   "source": [
    "Q5. What is inheritance? Give an example for each type of inheritance.\n",
    "\n",
    "Inheritance is a fundamental concept in object-oriented programming (OOP) that allows a class to inherit properties and behaviors from another class. \n",
    "The class that inherits is called the subclass or derived class, and the class being inherited from is called the superclass or base class.\n",
    "\n",
    "Inheritance provides a way to create a hierarchical relationship between classes, where the subclass inherits all the attributes and methods of \n",
    "the superclass, and can also add its own unique attributes and methods or override the ones inherited from the superclass.\n",
    "\n",
    "There are several types of inheritance, including:\n",
    "\n",
    "1. Single Inheritance: Single inheritance refers to a scenario where a subclass inherits from a single superclass. \n",
    "It represents a simple one-to-one inheritance relationship.\n",
    "\n",
    "###2. Multiple Inheritance: Multiple inheritance occurs when a subclass inherits from more than one superclass. It allows\n",
    " ###the subclass to inherit attributes and methods from multiple classes.\n",
    "\n",
    "###3.Multilevel Inheritance: Multilevel inheritance involves a chain of inheritance, where a subclass inherits from another subclass.\n",
    " ###This creates a hierarchy of classes.\n"
   ]
  },
  {
   "cell_type": "code",
   "execution_count": null,
   "id": "4a82eb02-f458-48f9-a5e0-6684d31748f4",
   "metadata": {},
   "outputs": [],
   "source": []
  },
  {
   "cell_type": "code",
   "execution_count": null,
   "id": "1e3f0e43-b669-4239-863c-1a77a6d301f1",
   "metadata": {},
   "outputs": [],
   "source": []
  },
  {
   "cell_type": "code",
   "execution_count": null,
   "id": "e91fac62-e5e6-464a-8178-d6e89aa1c1e0",
   "metadata": {},
   "outputs": [],
   "source": []
  },
  {
   "cell_type": "code",
   "execution_count": null,
   "id": "5c3fcfcf-425f-4c4a-9820-13e78bade2f3",
   "metadata": {},
   "outputs": [],
   "source": []
  },
  {
   "cell_type": "code",
   "execution_count": null,
   "id": "22f5fff2-dfd3-4514-9cb1-7dc99f44f243",
   "metadata": {},
   "outputs": [],
   "source": []
  },
  {
   "cell_type": "code",
   "execution_count": null,
   "id": "a4c60c59-7fcd-4eae-a65e-cfc1174ba4db",
   "metadata": {},
   "outputs": [],
   "source": []
  }
 ],
 "metadata": {
  "kernelspec": {
   "display_name": "Python 3 (ipykernel)",
   "language": "python",
   "name": "python3"
  },
  "language_info": {
   "codemirror_mode": {
    "name": "ipython",
    "version": 3
   },
   "file_extension": ".py",
   "mimetype": "text/x-python",
   "name": "python",
   "nbconvert_exporter": "python",
   "pygments_lexer": "ipython3",
   "version": "3.10.8"
  }
 },
 "nbformat": 4,
 "nbformat_minor": 5
}
